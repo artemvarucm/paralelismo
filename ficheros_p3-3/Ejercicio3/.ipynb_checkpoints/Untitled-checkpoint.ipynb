{
 "cells": [
  {
   "cell_type": "code",
   "execution_count": 17,
   "id": "ba201608-7f30-4fdf-b017-517b140c0c6d",
   "metadata": {},
   "outputs": [],
   "source": [
    "from sklearn.datasets import make_blobs\n",
    "import time\n",
    "\n",
    "# Crear un dataset con 2,000,000 puntos y 5 centros\n",
    "X_np, _ = make_blobs(n_samples=2_000_000, centers=5, n_features=2, random_state=42)"
   ]
  },
  {
   "cell_type": "code",
   "execution_count": 18,
   "id": "571ce910-5f22-4614-9323-ea5e363269ca",
   "metadata": {},
   "outputs": [],
   "source": [
    "import numpy as np\n",
    "\n",
    "def kmeans(X, k, max_iters=100, tol=1e-7, verbose=False):\n",
    "    # X es un array (n_samples, n_features)\n",
    "    n_samples, n_features = X.shape\n",
    "\n",
    "    # Elegir k puntos iniciales aleatorios como centroides\n",
    "    rng = np.random.default_rng(42)\n",
    "    random_indices = rng.choice(n_samples, size=k, replace=False)\n",
    "    centroids = X[random_indices]\n",
    "\n",
    "    for iteration in range(max_iters):\n",
    "        # Calcular distancias (n_samples x k)\n",
    "        distances = np.linalg.norm(X[:, np.newaxis] - centroids, axis=2)\n",
    "        # Asignar cada punto al centroide más cercano\n",
    "        labels = np.argmin(distances, axis=1)\n",
    "\n",
    "        # Calcular nuevos centroides\n",
    "        new_centroids = np.array([X[labels == i].mean(axis=0) for i in range(k)])\n",
    "\n",
    "        # Verificar convergencia\n",
    "        shift = np.linalg.norm(centroids - new_centroids)\n",
    "        if verbose:\n",
    "            print(f\"Iter {iteration}, shift = {shift:.6f}\")\n",
    "        if shift < tol:\n",
    "            break\n",
    "\n",
    "        centroids = new_centroids\n",
    "\n",
    "    return centroids, labels"
   ]
  },
  {
   "cell_type": "code",
   "execution_count": 19,
   "id": "ee8e054e-90d1-45ba-8be9-31930c704529",
   "metadata": {},
   "outputs": [
    {
     "name": "stdout",
     "output_type": "stream",
     "text": [
      "Time to Kmeans with Numpy: 90.00986742973328\n",
      "Centroids:\n",
      " [[-2.49178137  8.99316232]\n",
      " [-7.36719593 -6.24135696]\n",
      " [-6.40000796 -7.51111283]\n",
      " [-8.83723681  7.32405197]\n",
      " [ 3.3425889   3.05661113]]\n"
     ]
    }
   ],
   "source": [
    "#time pairwise distance calculations\n",
    "start = time.time()\n",
    "centroids, labels = kmeans(X_np, k=5, verbose=False)\n",
    "print(\"Time to Kmeans with Numpy:\", time.time() - start)\n",
    "print(\"Centroids:\\n\", centroids)\n",
    "\n"
   ]
  },
  {
   "cell_type": "code",
   "execution_count": null,
   "id": "6d36f495-7b66-428c-9fb9-c1c49fbc1cab",
   "metadata": {},
   "outputs": [],
   "source": [
    "import numpy as npy\n",
    "import dpnp as np \n",
    "\n",
    "def kmeans_dpnp(X, k, max_iters=100, tol=1e-7, verbose=False):\n",
    "    # X es un array (n_samples, n_features)\n",
    "    n_samples, n_features = X.shape\n",
    "\n",
    "    # Elegir k puntos iniciales aleatorios como centroides\n",
    "    rng = npy.random.default_rng(42)\n",
    "    random_indices = rng.choice(n_samples, size=k, replace=False)\n",
    "    random_indices_dp = np.asarray(random_indices, device=X.sycl_device)\n",
    "    centroids = X[random_indices_dp]\n",
    "\n",
    "    for iteration in range(max_iters):\n",
    "        # Calcular distancias (n_samples x k)\n",
    "        distances = np.linalg.norm(X[:, np.newaxis] - centroids, axis=2)\n",
    "        # Asignar cada punto al centroide más cercano\n",
    "        labels = np.argmin(distances, axis=1)\n",
    "\n",
    "        # Calcular nuevos centroides\n",
    "        new_centroids = np.array([X[labels == i].mean(axis=0) for i in range(k)])\n",
    "\n",
    "        # Verificar convergencia\n",
    "        shift = np.linalg.norm(centroids - new_centroids)\n",
    "        shift_host = shift.asnumpy()  # in host\n",
    "        if verbose:\n",
    "            print(f\"Iter {iteration}, shift = {shift_host:.6f}\")\n",
    "        if shift < tol:\n",
    "            break\n",
    "\n",
    "        centroids = new_centroids\n",
    "\n",
    "    return centroids, labels\n",
    "\n",
    "X_dpnp = np.asarray(X_np, device=\"gpu\")  # Convert from numpy to dpnp array\n",
    "\n",
    "start = time.time()\n",
    "centroids, labels = kmeans_dpnp(X_dpnp, k=5, verbose=False)\n",
    "print(\"Time to Kmeans with Numpy:\", time.time() - start)\n",
    "print(\"Centroids:\\n\", centroids.asnumpy())\n"
   ]
  },
  {
   "cell_type": "code",
   "execution_count": null,
   "id": "8a02e8e3-a8a3-4092-8874-5f1ee2eced19",
   "metadata": {},
   "outputs": [],
   "source": []
  },
  {
   "cell_type": "code",
   "execution_count": null,
   "id": "5bd40973-9708-4d59-9488-d7b179855c26",
   "metadata": {},
   "outputs": [],
   "source": []
  }
 ],
 "metadata": {
  "kernelspec": {
   "display_name": "Python 3 (ipykernel)",
   "language": "python",
   "name": "python3"
  },
  "language_info": {
   "codemirror_mode": {
    "name": "ipython",
    "version": 3
   },
   "file_extension": ".py",
   "mimetype": "text/x-python",
   "name": "python",
   "nbconvert_exporter": "python",
   "pygments_lexer": "ipython3",
   "version": "3.12.8"
  }
 },
 "nbformat": 4,
 "nbformat_minor": 5
}
